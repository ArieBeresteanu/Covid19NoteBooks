{
 "cells": [
  {
   "cell_type": "code",
   "execution_count": 1,
   "metadata": {},
   "outputs": [],
   "source": [
    "# import packages we need to use\n",
    "import scipy.stats\n",
    "import math\n",
    "import pandas as pd\n",
    "from matplotlib import pyplot as plt\n",
    "from ipywidgets import widgets\n",
    "import plotly.graph_objects as go"
   ]
  },
  {
   "cell_type": "code",
   "execution_count": 2,
   "metadata": {},
   "outputs": [],
   "source": [
    "# Preparing data\n",
    "\n",
    "# Confirmed cases\n",
    "link1 = 'https://raw.githubusercontent.com/CSSEGISandData/COVID-19/master/csse_covid_19_data/csse_covid_19_time_series/time_series_covid19_confirmed_US.csv';\n",
    "# Deaths\n",
    "link2 = 'https://raw.githubusercontent.com/CSSEGISandData/COVID-19/master/csse_covid_19_data/csse_covid_19_time_series/time_series_covid19_deaths_US.csv';\n",
    "\n",
    "#dropping unnecessary variables and aggregating by state:\n",
    "def trimedData(link):\n",
    "    df =  pd.read_csv(link,sep=',',header=0)\n",
    "    df = df[df.iso3 =='USA']\n",
    "    df = df[df.Lat > 0.0]; #getting rid of some \"unassigned\" locations\n",
    "    df = df.drop(['UID', 'FIPS', 'Admin2','iso2', 'iso3', 'code3','Lat', 'Long_', 'Combined_Key', 'Country_Region'], axis=1);\n",
    "    return df.groupby(['Province_State']).sum()\n",
    "\n",
    "cnfStates = trimedData(link1);\n",
    "dthStates = trimedData(link2);"
   ]
  },
  {
   "cell_type": "code",
   "execution_count": 3,
   "metadata": {},
   "outputs": [],
   "source": [
    "# new class definition\n",
    "\n",
    "class State: \n",
    "    def __init__(self, name, buffer, lag):\n",
    "        self.name = name\n",
    "        self.buffer = buffer\n",
    "        self.lag = lag\n",
    "        self.confirmed = []\n",
    "        self.deaths = []\n",
    "        self.dates = []\n",
    "        self.nobs = 0\n",
    "    \n",
    "    def create(self):        \n",
    "        first = self.buffer\n",
    "        last = cnfStates.shape[1]\n",
    "        self.nobs = last - first \n",
    "        self.confirmed = (cnfStates.loc[self.name][first:last].to_numpy()\n",
    "                          - cnfStates.loc[self.name][first-self.lag:last-self.lag].to_numpy())/self.lag\n",
    "        self.deaths = (dthStates.loc[self.name][first:last].to_numpy() \n",
    "                       - dthStates.loc[self.name][first-self.lag:last-self.lag].to_numpy())/self.lag\n",
    "        self.dates = cnfStates.columns[first:last]\n",
    "        \n",
    "    def show(self):\n",
    "        fig = go.Figure()\n",
    "\n",
    "        fig.add_trace(go.Scatter(\n",
    "            x=self.dates,      \n",
    "            y=self.confirmed,\n",
    "            name=\"Confirmed\"\n",
    "        ))\n",
    "\n",
    "        fig.add_trace(go.Scatter(\n",
    "    \n",
    "            x=self.dates,    \n",
    "            y=self.deaths,\n",
    "            name=\"Deaths\",\n",
    "            yaxis=\"y2\"\n",
    "        ))\n",
    "        \n",
    "        fig.update_layout(\n",
    "            xaxis=dict(\n",
    "                domain=[0.06, 0.94]\n",
    "            ),\n",
    "            yaxis=dict(\n",
    "                title=\"Confirmed\",\n",
    "                titlefont=dict(\n",
    "                    color=\"#1f77b4\"\n",
    "                ),\n",
    "                tickfont=dict(\n",
    "                    color=\"#1f77b4\"\n",
    "                ),\n",
    "                side=\"left\"\n",
    "            ),\n",
    "            yaxis2=dict(\n",
    "                title=\"Deaths\",\n",
    "                titlefont=dict(\n",
    "                    color=\"#ff7f0e\"\n",
    "                ),\n",
    "                tickfont=dict(\n",
    "                    color=\"#ff7f0e\"\n",
    "                ),\n",
    "                anchor=\"free\",\n",
    "                overlaying=\"y\",\n",
    "                side=\"right\",\n",
    "                position=0.95\n",
    "            )\n",
    "        )\n",
    "        \n",
    "        fig.update_layout(\n",
    "        title_text=self.name,\n",
    "        width=800,\n",
    "        )\n",
    "        \n",
    "        fig.show()\n"
   ]
  },
  {
   "cell_type": "code",
   "execution_count": 4,
   "metadata": {},
   "outputs": [],
   "source": [
    "pa = State('Pennsylvania',50,7)\n",
    "pa.create()"
   ]
  },
  {
   "cell_type": "code",
   "execution_count": 5,
   "metadata": {},
   "outputs": [],
   "source": [
    "fl = State('Florida',50,7)\n",
    "fl.create()"
   ]
  },
  {
   "cell_type": "code",
   "execution_count": 6,
   "metadata": {},
   "outputs": [],
   "source": [
    "il = State('Illinois',50,7)\n",
    "il.create()"
   ]
  },
  {
   "cell_type": "code",
   "execution_count": 7,
   "metadata": {},
   "outputs": [],
   "source": [
    "mn = State('Minnesota',50,7)\n",
    "mn.create()"
   ]
  },
  {
   "cell_type": "code",
   "execution_count": 8,
   "metadata": {},
   "outputs": [],
   "source": [
    "ny = State('New York',50,7)\n",
    "ny.create()"
   ]
  },
  {
   "cell_type": "code",
   "execution_count": 9,
   "metadata": {},
   "outputs": [],
   "source": [
    "tx = State('Texas',50,7)\n",
    "tx.create()"
   ]
  },
  {
   "cell_type": "code",
   "execution_count": 10,
   "metadata": {},
   "outputs": [],
   "source": [
    "ca = State(\"California\",50,7)\n",
    "ca.create()"
   ]
  },
  {
   "cell_type": "code",
   "execution_count": 11,
   "metadata": {},
   "outputs": [],
   "source": [
    "az = State(\"Arizona\",50,7)\n",
    "az.create()"
   ]
  },
  {
   "cell_type": "code",
   "execution_count": 12,
   "metadata": {},
   "outputs": [
    {
     "data": {
      "application/vnd.jupyter.widget-view+json": {
       "model_id": "b588d1e5a1b14fcaa72dd109d61d69bd",
       "version_major": 2,
       "version_minor": 0
      },
      "text/plain": [
       "VBox(children=(HBox(children=(Dropdown(description='States:', index=6, options=('AZ', 'CA', 'FL', 'IL', 'MN', …"
      ]
     },
     "metadata": {},
     "output_type": "display_data"
    }
   ],
   "source": [
    "mydict = {\"PA\" : pa,\n",
    "          \"FL\" : fl,\n",
    "          \"IL\" : il,\n",
    "          \"NY\" : ny,\n",
    "          \"MN\" : mn,\n",
    "          \"TX\" : tx,\n",
    "          \"CA\" : ca,\n",
    "          \"AZ\" : az}\n",
    "     \n",
    "\n",
    "# Assign an empty figure widget with two traces\n",
    "trace1 = go.Scatter(x=pa.dates, y=pa.confirmed, opacity=0.75, name='Confirmed')\n",
    "trace2 = go.Scatter(x=pa.dates, y=pa.deaths   , opacity=0.75, name='Deaths')\n",
    "fig = go.FigureWidget(#data=[trace1, trace2],\n",
    "                    layout=go.Layout(\n",
    "                        title=dict(\n",
    "                            text=pa.name\n",
    "                        )\n",
    "                    ))\n",
    "\n",
    "fig.add_trace(go.Scatter(\n",
    "    x=pa.dates,      \n",
    "    y=pa.confirmed,\n",
    "    name=\"Confirmed\"\n",
    "))\n",
    "\n",
    "fig.add_trace(go.Scatter(\n",
    "\n",
    "    x=pa.dates,    \n",
    "    y=pa.deaths,\n",
    "    name=\"Deaths\",\n",
    "    yaxis=\"y2\"\n",
    "))\n",
    "\n",
    "fig.update_layout(\n",
    "    title_text=pa.name,\n",
    "    width=900,\n",
    "    xaxis=dict(\n",
    "        domain=[0.06, 0.94]\n",
    "    ),\n",
    "    yaxis=dict(\n",
    "        title=\"Confirmed\",\n",
    "        titlefont=dict(\n",
    "            color=\"#1f77b4\"\n",
    "        ),\n",
    "        tickfont=dict(\n",
    "            color=\"#1f77b4\"\n",
    "        ),\n",
    "        side=\"left\"\n",
    "    ),\n",
    "    yaxis2=dict(\n",
    "        title=\"Deaths\",\n",
    "        titlefont=dict(\n",
    "            color=\"#ff7f0e\"\n",
    "        ),\n",
    "        tickfont=dict(\n",
    "            color=\"#ff7f0e\"\n",
    "        ),\n",
    "        anchor=\"free\",\n",
    "        overlaying=\"y\",\n",
    "        side=\"right\",\n",
    "        position=0.95\n",
    "    )\n",
    ")\n",
    "\n",
    "\n",
    "states = widgets.Dropdown(\n",
    "    options = sorted(list(mydict.keys())), \n",
    "    value = 'PA',\n",
    "    description='States:',\n",
    ")\n",
    "\n",
    "\n",
    "def response(v):\n",
    "    x  = mydict[states.value].dates\n",
    "    y1 = mydict[states.value].confirmed\n",
    "    y2 = mydict[states.value].deaths\n",
    "    ti = mydict[states.value].name\n",
    "\n",
    "    with fig.batch_update():\n",
    "        fig.data[0].y = y1\n",
    "        fig.data[1].y = y2\n",
    "\n",
    "    fig.update_layout(\n",
    "         title_text=ti,\n",
    "     )\n",
    "\n",
    "states.observe(response,names=\"value\")   \n",
    "\n",
    "container = widgets.HBox(children=[states])\n",
    "widgets.VBox([container,\n",
    "              fig   ])"
   ]
  },
  {
   "cell_type": "code",
   "execution_count": 13,
   "metadata": {},
   "outputs": [],
   "source": [
    "## These might be needed before you run this notebook:\n",
    "\n",
    "#!pip install ipywidgets\n",
    "#!jupyter nbextension enable --py widgetsnbextension --sys-prefix\n",
    "#!pip install plotly"
   ]
  },
  {
   "cell_type": "code",
   "execution_count": null,
   "metadata": {},
   "outputs": [],
   "source": []
  }
 ],
 "metadata": {
  "@webio": {
   "lastCommId": null,
   "lastKernelId": null
  },
  "kernelspec": {
   "display_name": "Python 3",
   "language": "python",
   "name": "python3"
  },
  "language_info": {
   "codemirror_mode": {
    "name": "ipython",
    "version": 3
   },
   "file_extension": ".py",
   "mimetype": "text/x-python",
   "name": "python",
   "nbconvert_exporter": "python",
   "pygments_lexer": "ipython3",
   "version": "3.6.9"
  }
 },
 "nbformat": 4,
 "nbformat_minor": 2
}
