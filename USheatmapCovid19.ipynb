{
 "cells": [
  {
   "cell_type": "code",
   "execution_count": 1,
   "metadata": {},
   "outputs": [],
   "source": [
    "# import packages we need to use\n",
    "import scipy.stats\n",
    "import math\n",
    "import pandas as pd\n",
    "import datetime\n"
   ]
  },
  {
   "cell_type": "code",
   "execution_count": 2,
   "metadata": {},
   "outputs": [],
   "source": [
    "#confirmed\n",
    "link = 'https://raw.githubusercontent.com/CSSEGISandData/COVID-19/master/csse_covid_19_data/csse_covid_19_time_series/time_series_covid19_confirmed_US.csv';\n",
    "#deaths\n",
    "#link = 'https://raw.githubusercontent.com/CSSEGISandData/COVID-19/master/csse_covid_19_data/csse_covid_19_time_series/time_series_covid19_deaths_US.csv';\n",
    "v =  pd.read_csv(link,sep=',',header=0);\n",
    "v = v[v.iso3 =='USA'];\n",
    "v = v.drop(['iso2', 'iso3', 'code3', 'Country_Region'], axis=1);\n",
    "v = v[v.Lat > 0.0]; #getting rid of some \"unassigned\" locations"
   ]
  },
  {
   "cell_type": "code",
   "execution_count": 3,
   "metadata": {},
   "outputs": [],
   "source": [
    "from ipyleaflet import Map, Marker, MarkerCluster, Icon, Heatmap , FullScreenControl\n",
    "\n",
    "# USA center:\n",
    "center=(38.2,-91.0)\n",
    "\n",
    "# create the map:\n",
    "m=Map(center=center,zoom=4)\n",
    "m.add_control(FullScreenControl())\n",
    "\n",
    "# import the GeoJson package\n",
    "from ipyleaflet import GeoJSON\n",
    "import json\n",
    "\n",
    "#create a layer with state borders\n",
    "with open(\"c:/data/us_states.json\", 'r', encoding='utf-8') as f:\n",
    "  data = json.load(f)\n",
    "\n",
    "# add the states borders layer to the map\n",
    "geo_json = GeoJSON(data=data, style = {'color': 'green', 'opacity':0.4, 'weight':1,  'fillOpacity':0.01})\n",
    "m.add_layer(geo_json)"
   ]
  },
  {
   "cell_type": "code",
   "execution_count": 4,
   "metadata": {},
   "outputs": [],
   "source": [
    "def heat(df,col,diff,factor):\n",
    "    loc = [];\n",
    "    for date,row in df.iterrows():\n",
    "        if diff>0:\n",
    "            loc.append([row.iloc[4],row.iloc[5], factor*(row.iloc[col]-row.iloc[col-diff])]) #/diff\n",
    "        else:\n",
    "            loc.append([row.iloc[4],row.iloc[5], row.iloc[col]])\n",
    "    return loc\n"
   ]
  },
  {
   "cell_type": "code",
   "execution_count": 5,
   "metadata": {},
   "outputs": [],
   "source": [
    "past=0\n",
    "diff = 3\n",
    "factor = 50\n",
    "col = v.columns.size-1-past\n",
    "loc = heat(v,col,diff, factor)"
   ]
  },
  {
   "cell_type": "code",
   "execution_count": 6,
   "metadata": {},
   "outputs": [],
   "source": [
    "heatmap = Heatmap(\n",
    "    locations=loc,\n",
    "    radius=10,\n",
    "    gradient={0.2: 'blue', 0.4: 'cyan', 0.6: 'lime', 0.8: 'yellow', 1.0: 'red'}\n",
    ")\n",
    "\n",
    "m.add_layer(heatmap);"
   ]
  },
  {
   "cell_type": "code",
   "execution_count": 7,
   "metadata": {},
   "outputs": [
    {
     "data": {
      "application/vnd.jupyter.widget-view+json": {
       "model_id": "4b9aab232ef94606933cde8dea6904fa",
       "version_major": 2,
       "version_minor": 0
      },
      "text/plain": [
       "Map(basemap={'url': 'https://{s}.tile.openstreetmap.org/{z}/{x}/{y}.png', 'max_zoom': 19, 'attribution': 'Map …"
      ]
     },
     "metadata": {},
     "output_type": "display_data"
    }
   ],
   "source": [
    "display(m)"
   ]
  },
  {
   "cell_type": "code",
   "execution_count": 8,
   "metadata": {},
   "outputs": [
    {
     "name": "stdout",
     "output_type": "stream",
     "text": [
      "6/11/20\n"
     ]
    }
   ],
   "source": [
    "print(v.columns[col])"
   ]
  },
  {
   "cell_type": "code",
   "execution_count": null,
   "metadata": {},
   "outputs": [],
   "source": []
  }
 ],
 "metadata": {
  "kernelspec": {
   "display_name": "Python 3",
   "language": "python",
   "name": "python3"
  },
  "language_info": {
   "codemirror_mode": {
    "name": "ipython",
    "version": 3
   },
   "file_extension": ".py",
   "mimetype": "text/x-python",
   "name": "python",
   "nbconvert_exporter": "python",
   "pygments_lexer": "ipython3",
   "version": "3.6.5"
  }
 },
 "nbformat": 4,
 "nbformat_minor": 2
}
