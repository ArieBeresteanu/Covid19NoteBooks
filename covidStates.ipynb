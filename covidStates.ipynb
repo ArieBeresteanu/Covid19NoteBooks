{
 "cells": [
  {
   "cell_type": "code",
   "execution_count": null,
   "metadata": {},
   "outputs": [],
   "source": [
    "# import packages we need to use\n",
    "import scipy.stats\n",
    "import numpy as np\n",
    "import math\n",
    "import pandas as pd\n",
    "from matplotlib import pyplot as plt\n",
    "from ipywidgets import widgets\n",
    "import plotly.graph_objects as go"
   ]
  },
  {
   "cell_type": "code",
   "execution_count": null,
   "metadata": {},
   "outputs": [],
   "source": [
    "# Preparing data\n",
    "\n",
    "# Confirmed cases\n",
    "link1 = 'https://raw.githubusercontent.com/CSSEGISandData/COVID-19/master/csse_covid_19_data/csse_covid_19_time_series/time_series_covid19_confirmed_US.csv';\n",
    "# Deaths\n",
    "link2 = 'https://raw.githubusercontent.com/CSSEGISandData/COVID-19/master/csse_covid_19_data/csse_covid_19_time_series/time_series_covid19_deaths_US.csv';\n",
    "\n",
    "#dropping unnecessary variables and aggregating by state:\n",
    "def trimedData(link):\n",
    "    df =  pd.read_csv(link,sep=',',header=0)\n",
    "    #df = df[df.iso3 =='USA']\n",
    "    df = df[df.Lat > 0.0]; #getting rid of some \"unassigned\" locations\n",
    "    df = df.drop(['UID', 'FIPS', 'Admin2','iso2', 'iso3', 'code3','Lat', 'Long_', 'Combined_Key', 'Country_Region'], axis=1);\n",
    "    return df.groupby(['Province_State']).sum()\n",
    "\n",
    "cnfStates = trimedData(link1);\n",
    "dthStates = trimedData(link2);"
   ]
  },
  {
   "cell_type": "code",
   "execution_count": null,
   "metadata": {},
   "outputs": [],
   "source": [
    "# new class definition\n",
    "\n",
    "class State: \n",
    "    def __init__(self, name, buffer, lag):\n",
    "        self.name = name\n",
    "        self.buffer = buffer\n",
    "        self.lag = lag\n",
    "        self.confirmed = []\n",
    "        self.deaths = []\n",
    "        self.dates = []\n",
    "        self.nobs = 0\n",
    "    \n",
    "    def create(self):        \n",
    "        first = self.buffer\n",
    "        last = cnfStates.shape[1]\n",
    "        self.nobs = last - first \n",
    "        self.confirmed = (cnfStates.loc[self.name][first:last].to_numpy()\n",
    "                          - cnfStates.loc[self.name][first-self.lag:last-self.lag].to_numpy())/self.lag\n",
    "        self.deaths = (dthStates.loc[self.name][first:last].to_numpy() \n",
    "                       - dthStates.loc[self.name][first-self.lag:last-self.lag].to_numpy())/self.lag\n",
    "        self.dates = cnfStates.columns[first:last]\n",
    "        \n",
    "    def show(self):\n",
    "        fig = go.Figure()\n",
    "\n",
    "        fig.add_trace(go.Scatter(\n",
    "            x=self.dates,      \n",
    "            y=self.confirmed,\n",
    "            name=\"Confirmed\"\n",
    "        ))\n",
    "\n",
    "        fig.add_trace(go.Scatter(\n",
    "    \n",
    "            x=self.dates,    \n",
    "            y=self.deaths,\n",
    "            name=\"Deaths\",\n",
    "            yaxis=\"y2\"\n",
    "        ))\n",
    "        \n",
    "        fig.update_layout(\n",
    "            xaxis=dict(\n",
    "                domain=[0.06, 0.94]\n",
    "            ),\n",
    "            yaxis=dict(\n",
    "                title=\"Confirmed\",\n",
    "                titlefont=dict(\n",
    "                    color=\"#1f77b4\"\n",
    "                ),\n",
    "                tickfont=dict(\n",
    "                    color=\"#1f77b4\"\n",
    "                ),\n",
    "                side=\"left\"\n",
    "            ),\n",
    "            yaxis2=dict(\n",
    "                title=\"Deaths\",\n",
    "                titlefont=dict(\n",
    "                    color=\"#ff7f0e\"\n",
    "                ),\n",
    "                tickfont=dict(\n",
    "                    color=\"#ff7f0e\"\n",
    "                ),\n",
    "                anchor=\"free\",\n",
    "                overlaying=\"y\",\n",
    "                side=\"right\",\n",
    "                position=0.95\n",
    "            )\n",
    "        )\n",
    "        \n",
    "        fig.update_layout(\n",
    "        title_text=self.name,\n",
    "        width=800\n",
    "        )\n",
    "        \n",
    "        fig.show()\n"
   ]
  },
  {
   "cell_type": "code",
   "execution_count": null,
   "metadata": {},
   "outputs": [],
   "source": [
    "initialBuffer = 60\n",
    "smoothingLag = 7"
   ]
  },
  {
   "cell_type": "code",
   "execution_count": null,
   "metadata": {},
   "outputs": [],
   "source": [
    "pa = State('Pennsylvania',initialBuffer,smoothingLag)\n",
    "pa.create()"
   ]
  },
  {
   "cell_type": "code",
   "execution_count": null,
   "metadata": {},
   "outputs": [],
   "source": [
    "fl = State('Florida',initialBuffer,smoothingLag)\n",
    "fl.create()"
   ]
  },
  {
   "cell_type": "code",
   "execution_count": null,
   "metadata": {},
   "outputs": [],
   "source": [
    "il = State('Illinois',initialBuffer,smoothingLag)\n",
    "il.create()"
   ]
  },
  {
   "cell_type": "code",
   "execution_count": null,
   "metadata": {},
   "outputs": [],
   "source": [
    "nc = State('North Carolina',initialBuffer,smoothingLag)\n",
    "nc.create()"
   ]
  },
  {
   "cell_type": "code",
   "execution_count": null,
   "metadata": {},
   "outputs": [],
   "source": [
    "nj = State('New Jersey',initialBuffer,smoothingLag)\n",
    "nj.create()"
   ]
  },
  {
   "cell_type": "code",
   "execution_count": null,
   "metadata": {},
   "outputs": [],
   "source": [
    "ny = State('New York',initialBuffer,smoothingLag)\n",
    "ny.create()"
   ]
  },
  {
   "cell_type": "code",
   "execution_count": null,
   "metadata": {},
   "outputs": [],
   "source": [
    "tx = State('Texas',initialBuffer,smoothingLag)\n",
    "tx.create()"
   ]
  },
  {
   "cell_type": "code",
   "execution_count": null,
   "metadata": {},
   "outputs": [],
   "source": [
    "ca = State(\"California\",initialBuffer,smoothingLag)\n",
    "ca.create()"
   ]
  },
  {
   "cell_type": "code",
   "execution_count": null,
   "metadata": {},
   "outputs": [],
   "source": [
    "az = State(\"Arizona\",initialBuffer,smoothingLag)\n",
    "az.create()"
   ]
  },
  {
   "cell_type": "code",
   "execution_count": null,
   "metadata": {},
   "outputs": [],
   "source": [
    "oh = State(\"Ohio\",initialBuffer,smoothingLag)\n",
    "oh.create()"
   ]
  },
  {
   "cell_type": "code",
   "execution_count": null,
   "metadata": {},
   "outputs": [],
   "source": [
    "ga = State(\"Georgia\",initialBuffer,smoothingLag)\n",
    "ga.create()"
   ]
  },
  {
   "cell_type": "code",
   "execution_count": null,
   "metadata": {},
   "outputs": [],
   "source": [
    "la = State(\"Louisiana\",initialBuffer,smoothingLag)\n",
    "la.create()"
   ]
  },
  {
   "cell_type": "code",
   "execution_count": null,
   "metadata": {},
   "outputs": [],
   "source": [
    "sc = State(\"South Carolina\",initialBuffer,smoothingLag)\n",
    "sc.create()"
   ]
  },
  {
   "cell_type": "code",
   "execution_count": null,
   "metadata": {},
   "outputs": [],
   "source": [
    "tn = State(\"Tennessee\",initialBuffer,smoothingLag)\n",
    "tn.create()"
   ]
  },
  {
   "cell_type": "code",
   "execution_count": null,
   "metadata": {},
   "outputs": [],
   "source": [
    "va = State(\"Virginia\",initialBuffer,smoothingLag)\n",
    "va.create()"
   ]
  },
  {
   "cell_type": "code",
   "execution_count": null,
   "metadata": {},
   "outputs": [],
   "source": [
    "al = State(\"Alabama\",initialBuffer,smoothingLag)\n",
    "al.create()"
   ]
  },
  {
   "cell_type": "code",
   "execution_count": null,
   "metadata": {},
   "outputs": [],
   "source": [
    "vi = State(\"Virgin Islands\",initialBuffer,smoothingLag)\n",
    "vi.create()"
   ]
  },
  {
   "cell_type": "code",
   "execution_count": null,
   "metadata": {},
   "outputs": [],
   "source": [
    "wi = State(\"Wisconsin\",initialBuffer,smoothingLag)\n",
    "wi.create()"
   ]
  },
  {
   "cell_type": "code",
   "execution_count": null,
   "metadata": {},
   "outputs": [],
   "source": [
    "mydict = {\"AL\" : al,\n",
    "          \"PA\" : pa,\n",
    "          \"FL\" : fl,\n",
    "          \"IL\" : il,\n",
    "          \"NY\" : ny,\n",
    "          \"NC\" : nc,\n",
    "          \"NJ\" : nj,\n",
    "          \"TX\" : tx,\n",
    "          \"CA\" : ca,\n",
    "          \"AZ\" : az,\n",
    "          \"OH\" : oh,\n",
    "          \"LA\" : la,\n",
    "          \"GA\" : ga,\n",
    "          \"SC\" : sc,\n",
    "          \"TN\" : tn,\n",
    "          \"VA\" : va,\n",
    "          \"VI\" : vi,\n",
    "          \"WI\" : wi}\n",
    "     \n",
    "\n",
    "# Assign an empty figure widget with two traces\n",
    "trace1 = go.Scatter(x=pa.dates, y=pa.confirmed, opacity=0.75, name='Confirmed')\n",
    "trace2 = go.Scatter(x=pa.dates, y=pa.deaths   , opacity=0.75, name='Deaths')\n",
    "fig = go.FigureWidget(#data=[trace1, trace2],\n",
    "                    layout=go.Layout(\n",
    "                        title=dict(\n",
    "                            text=pa.name\n",
    "                        )\n",
    "                    ))\n",
    "\n",
    "fig.add_trace(go.Scatter(\n",
    "    x=pa.dates,      \n",
    "    y=pa.confirmed,\n",
    "    name=\"Confirmed\"\n",
    "))\n",
    "\n",
    "fig.add_trace(go.Scatter(\n",
    "\n",
    "    x=pa.dates,    \n",
    "    y=pa.deaths,\n",
    "    name=\"Deaths\",\n",
    "    yaxis=\"y2\"\n",
    "))\n",
    "\n",
    "fig.update_layout(\n",
    "    title_text=pa.name,\n",
    "    width=1600,\n",
    "    height=720,\n",
    "    xaxis=dict(\n",
    "        domain=[0.06, 0.94]\n",
    "    ),\n",
    "    yaxis=dict(\n",
    "        title=\"Confirmed\",\n",
    "        titlefont=dict(\n",
    "            color=\"#1f77b4\"\n",
    "        ),\n",
    "        tickfont=dict(\n",
    "            color=\"#1f77b4\"\n",
    "        ),\n",
    "        side=\"left\"\n",
    "    ),\n",
    "    yaxis2=dict(\n",
    "        title=\"Deaths\",\n",
    "        titlefont=dict(\n",
    "            color=\"#ff7f0e\"\n",
    "        ),\n",
    "        tickfont=dict(\n",
    "            color=\"#ff7f0e\"\n",
    "        ),\n",
    "        anchor=\"free\",\n",
    "        overlaying=\"y\",\n",
    "        side=\"right\",\n",
    "        position=0.95\n",
    "    )\n",
    ")\n",
    "\n",
    "\n",
    "states = widgets.Dropdown(\n",
    "    options = sorted(list(mydict.keys())), \n",
    "    value = 'PA',\n",
    "    description='States:',\n",
    ")\n",
    "\n",
    "\n",
    "def response(v):\n",
    "    x  = mydict[states.value].dates\n",
    "    y1 = mydict[states.value].confirmed\n",
    "    y2 = mydict[states.value].deaths\n",
    "    ti = mydict[states.value].name\n",
    "\n",
    "    with fig.batch_update():\n",
    "        fig.data[0].y = y1\n",
    "        fig.data[1].y = y2\n",
    "\n",
    "    fig.update_layout(\n",
    "         title_text=ti,\n",
    "     )\n",
    "\n",
    "states.observe(response,names=\"value\")   \n",
    "\n",
    "container = widgets.HBox(children=[states])\n",
    "widgets.VBox([container,\n",
    "              fig   ])"
   ]
  },
  {
   "cell_type": "code",
   "execution_count": null,
   "metadata": {},
   "outputs": [],
   "source": [
    "## These might be needed before you run this notebook:\n",
    "\n",
    "#!pip install ipywidgets\n",
    "#!jupyter nbextension enable --py widgetsnbextension --sys-prefix\n",
    "#!pip install plotly"
   ]
  },
  {
   "cell_type": "code",
   "execution_count": null,
   "metadata": {},
   "outputs": [],
   "source": [
    "topStates = 5\n",
    "\n",
    "lastDate = cnfStates.columns.values[-1]\n",
    "beforeLastDate = cnfStates.columns.values[-2]\n",
    "\n",
    "X = cnfStates\n",
    "\n",
    "X['diff'] = X[lastDate] -X[beforeLastDate]\n",
    "X.sort_values(by=['diff'],ascending=False,inplace=True)\n",
    "o = np.sum(X['diff'][topStates:])\n",
    "\n",
    "\n",
    "labels = np.append(X.index.values[0:topStates],'Other')\n",
    "sizes = np.append(X['diff'].values[0:topStates], o)\n",
    "#l = sizes.size\n",
    "explode =  np.zeros(topStates+1)\n",
    "explode[0] = 0.1\n",
    "explode[1] = 0.05 # only \"explode\" the 1st and 2nd slices \n",
    "\n",
    "fig1, ax1 = plt.subplots(figsize=(20, 10))\n",
    "ax1.pie(sizes, explode=explode, labels=labels, autopct='%1.1f%%',\n",
    "        shadow=True, startangle=90)\n",
    "ax1.axis('equal')  # Equal aspect ratio ensures that pie is drawn as a circle.\n",
    "ax1.set_title('Top 5 states contributing to new confirmed cases - ' + lastDate)\n",
    "plt.show()"
   ]
  },
  {
   "cell_type": "code",
   "execution_count": null,
   "metadata": {},
   "outputs": [],
   "source": [
    "topStates = 5\n",
    "\n",
    "lastDate = dthStates.columns.values[-1]\n",
    "beforeLastDate = dthStates.columns.values[-2]\n",
    "\n",
    "Y = dthStates\n",
    "\n",
    "\n",
    "Y['diff'] = Y[lastDate] -Y[beforeLastDate]\n",
    "Y.sort_values(by=['diff'],ascending=False,inplace=True)\n",
    "o = np.sum(Y['diff'][topStates:])\n",
    "\n",
    "\n",
    "labels = np.append(Y.index.values[0:topStates],'Other')\n",
    "sizes = np.append(Y['diff'].values[0:topStates], o)\n",
    "#l = sizes.size\n",
    "explode =  np.zeros(topStates+1)\n",
    "explode[0] = 0.1\n",
    "explode[1] = 0.05 # only \"explode\" the 1st and 2nd slices \n",
    "\n",
    "fig1, ax1 = plt.subplots(figsize=(20, 10))\n",
    "ax1.pie(sizes, explode=explode, labels=labels, autopct='%1.1f%%',\n",
    "        shadow=True, startangle=90)\n",
    "ax1.axis('equal')  # Equal aspect ratio ensures that pie is drawn as a circle.\n",
    "ax1.set_title('Top 5 states contributing to new deaths - ' + lastDate)\n",
    "plt.show()"
   ]
  },
  {
   "cell_type": "code",
   "execution_count": null,
   "metadata": {},
   "outputs": [],
   "source": []
  }
 ],
 "metadata": {
  "@webio": {
   "lastCommId": null,
   "lastKernelId": null
  },
  "kernelspec": {
   "display_name": "Python 3",
   "language": "python",
   "name": "python3"
  },
  "language_info": {
   "codemirror_mode": {
    "name": "ipython",
    "version": 3
   },
   "file_extension": ".py",
   "mimetype": "text/x-python",
   "name": "python",
   "nbconvert_exporter": "python",
   "pygments_lexer": "ipython3",
   "version": "3.6.5"
  }
 },
 "nbformat": 4,
 "nbformat_minor": 2
}
