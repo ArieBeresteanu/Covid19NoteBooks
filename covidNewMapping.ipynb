{
 "cells": [
  {
   "cell_type": "code",
   "execution_count": 1,
   "metadata": {},
   "outputs": [],
   "source": [
    "# import packages we need to use\n",
    "import scipy.stats\n",
    "import math\n",
    "import pandas as pd\n",
    "import datetime"
   ]
  },
  {
   "cell_type": "code",
   "execution_count": 2,
   "metadata": {},
   "outputs": [],
   "source": [
    "#link = 'https://github.com/CSSEGISandData/COVID-19/blob/master/csse_covid_19_data/csse_covid_19_time_series/time_series_covid19_confirmed_US.csv'\n",
    "link = 'https://raw.githubusercontent.com/CSSEGISandData/COVID-19/master/csse_covid_19_data/csse_covid_19_time_series/time_series_covid19_confirmed_US.csv'\n",
    "# You have to download the csv file from the link above, \n",
    "#  save it under *.csv, then open it with Excel and save it again (without doing anything else)\n",
    "\n",
    "#file = 'C:\\\\data\\\\UScovidCountiesCurrent_Confirmed.csv'\n",
    "#file = 'C:\\\\data\\\\UScovidCountiesCurrent_Deaths.csv'\n",
    "#v =  pd.read_csv(file,sep=',',header=0)\n",
    "v =  pd.read_csv(link,sep=',',header=0)"
   ]
  },
  {
   "cell_type": "code",
   "execution_count": 3,
   "metadata": {},
   "outputs": [
    {
     "data": {
      "text/plain": [
       "(3261, 160)"
      ]
     },
     "execution_count": 3,
     "metadata": {},
     "output_type": "execute_result"
    }
   ],
   "source": [
    "v.shape"
   ]
  },
  {
   "cell_type": "code",
   "execution_count": 4,
   "metadata": {},
   "outputs": [],
   "source": [
    "#Cleaning\n",
    "v = v[v.iso3 =='USA'];\n",
    "v = v.drop(['iso2', 'iso3', 'code3', 'Country_Region'], axis=1);\n",
    "v = v[v.Lat > 0.0] #getting rid of some \"unassigned\" locations"
   ]
  },
  {
   "cell_type": "code",
   "execution_count": 5,
   "metadata": {},
   "outputs": [],
   "source": [
    "dateList = v.columns[7:v.columns.size+1]"
   ]
  },
  {
   "cell_type": "code",
   "execution_count": 6,
   "metadata": {},
   "outputs": [],
   "source": [
    "months = {'1' : 'Jan',\n",
    "          '2' : 'Feb',\n",
    "          '3' : 'Mar',\n",
    "          '4' : 'Apr',\n",
    "          '5' : 'May',\n",
    "          '6' : 'Jun',\n",
    "          '7' : 'Jul',\n",
    "          '8' : 'Aug',\n",
    "          '9' : 'Sep',\n",
    "          '10' : 'Oct',\n",
    "          '11' : 'Nov',\n",
    "          '12' : 'Dec'\n",
    "}"
   ]
  },
  {
   "cell_type": "code",
   "execution_count": 7,
   "metadata": {},
   "outputs": [],
   "source": [
    "def niceDate(slashesDate,letterMonth=True):\n",
    "    # if letterMonth=True, converting 3/15/20 to Mar-15-2020 and 3/7/20 to Mar-07-2020\n",
    "    # else, converting 3/15/20 to 03-15-2020 and 3/7/20 to 03-07-2020\n",
    "    global months\n",
    "    loc = 0 #<-starting point is location zero\n",
    "    \n",
    "    # create a 3 letter month\n",
    "    # we need to detect if slashesDate starts with one or two digits\n",
    "    if slashesDate[1] == '/':\n",
    "        if letterMonth:\n",
    "            nice = months[slashesDate[0]]\n",
    "        else:\n",
    "            nice = '0' + slashesDate[0]\n",
    "        loc = 2\n",
    "    else:\n",
    "        if letterMonth:\n",
    "            nice = months[slashesDate[0:2]]\n",
    "        else:\n",
    "            nice = slashesDate[0:2]\n",
    "        loc = 3\n",
    "    \n",
    "    nice +='-' #adding the dash\n",
    "    \n",
    "    # Next we need to figure out the day\n",
    "    if slashesDate[loc+1] == '/':\n",
    "        nice += '0' + slashesDate[loc]\n",
    "        loc +=2\n",
    "    else:\n",
    "        nice += slashesDate[loc:loc+2] \n",
    "        loc +=3\n",
    "    \n",
    "    #next we just add the 2020 year\n",
    "    nice += '-20' + slashesDate[loc:loc+2]\n",
    "    return nice\n",
    "\n",
    "        "
   ]
  },
  {
   "cell_type": "code",
   "execution_count": 8,
   "metadata": {},
   "outputs": [],
   "source": [
    "niceDateList = []\n",
    "for d in dateList:\n",
    "    niceDateList.append(niceDate(d,False))"
   ]
  },
  {
   "cell_type": "code",
   "execution_count": 9,
   "metadata": {},
   "outputs": [
    {
     "name": "stdout",
     "output_type": "stream",
     "text": [
      "First Date in data set:  01-22-2020\n",
      "Last Date in data set:  06-18-2020\n"
     ]
    }
   ],
   "source": [
    "\n",
    "print('First Date in data set: ',niceDateList[0])\n",
    "print('Last Date in data set: ',niceDateList[-1])"
   ]
  },
  {
   "cell_type": "code",
   "execution_count": 10,
   "metadata": {},
   "outputs": [],
   "source": [
    "from ipyleaflet import Map, Marker, MarkerCluster, Icon, Heatmap #, FullScreenControl"
   ]
  },
  {
   "cell_type": "code",
   "execution_count": 11,
   "metadata": {},
   "outputs": [],
   "source": [
    "# USA center:\n",
    "center=(38.2,-92.0)\n",
    "\n",
    "# create the map:\n",
    "m=Map(center=center,zoom=4)\n",
    "#m.add_control(FullScreenControl())\n",
    "\n",
    "# import the GeoJson package\n",
    "from ipyleaflet import GeoJSON\n",
    "import json\n",
    "\n",
    "#create a layer with state borders\n",
    "with open(\"c:/data/us_states.json\", 'r', encoding='utf-8') as f:\n",
    "  data = json.load(f)\n",
    "\n",
    "# add the states borders layer to the map\n",
    "geo_json = GeoJSON(data=data, style = {'color': 'green', 'opacity':0.4, 'weight':1,  'fillOpacity':0.01})\n",
    "m.add_layer(geo_json)"
   ]
  },
  {
   "cell_type": "code",
   "execution_count": 12,
   "metadata": {},
   "outputs": [],
   "source": [
    "currentDate = dateList[0] "
   ]
  },
  {
   "cell_type": "code",
   "execution_count": 13,
   "metadata": {},
   "outputs": [],
   "source": [
    "def heat(df,col):\n",
    "    #Mean,Var = 50,2500\n",
    "    loc = [];\n",
    "    for date,row in df.iterrows():\n",
    "        #temp = scipy.stats.norm(Mean, Var).cdf(row.absolute_confirmed/1000)\n",
    "        #loc.append([row.location_lat,row.location_long,temp])\n",
    "        #loc.append([row.location_lat,row.location_long,row.absolute_confirmed])\n",
    "        loc.append([row.iloc[4],row.iloc[5], row.iloc[col]])\n",
    "    return loc\n"
   ]
  },
  {
   "cell_type": "code",
   "execution_count": 14,
   "metadata": {},
   "outputs": [],
   "source": [
    "col = v.columns.size-1\n",
    "loc = heat(v,col)"
   ]
  },
  {
   "cell_type": "code",
   "execution_count": 15,
   "metadata": {},
   "outputs": [],
   "source": [
    "heatmap = Heatmap(\n",
    "    locations=loc,\n",
    "    radius=20,\n",
    "    gradient={0.2: 'blue', 0.4: 'cyan', 0.6: 'lime', 0.8: 'yellow', 1.0: 'red'}\n",
    ")\n",
    "\n",
    "m.add_layer(heatmap);"
   ]
  },
  {
   "cell_type": "code",
   "execution_count": 16,
   "metadata": {},
   "outputs": [
    {
     "data": {
      "application/vnd.jupyter.widget-view+json": {
       "model_id": "fd3ac966751a44549c1dd726e93de98a",
       "version_major": 2,
       "version_minor": 0
      },
      "text/plain": [
       "Map(basemap={'url': 'https://{s}.tile.openstreetmap.org/{z}/{x}/{y}.png', 'max_zoom': 19, 'attribution': 'Map …"
      ]
     },
     "metadata": {},
     "output_type": "display_data"
    }
   ],
   "source": [
    "display(m)"
   ]
  },
  {
   "cell_type": "code",
   "execution_count": 17,
   "metadata": {},
   "outputs": [
    {
     "name": "stdout",
     "output_type": "stream",
     "text": [
      "6/18/20\n"
     ]
    }
   ],
   "source": [
    "print(v.columns[col])"
   ]
  },
  {
   "cell_type": "code",
   "execution_count": null,
   "metadata": {},
   "outputs": [],
   "source": []
  }
 ],
 "metadata": {
  "kernelspec": {
   "display_name": "Python 3",
   "language": "python",
   "name": "python3"
  },
  "language_info": {
   "codemirror_mode": {
    "name": "ipython",
    "version": 3
   },
   "file_extension": ".py",
   "mimetype": "text/x-python",
   "name": "python",
   "nbconvert_exporter": "python",
   "pygments_lexer": "ipython3",
   "version": "3.6.5"
  }
 },
 "nbformat": 4,
 "nbformat_minor": 2
}
